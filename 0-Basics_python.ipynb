{
 "cells": [
  {
   "cell_type": "markdown",
   "id": "8db083c5-942e-47a7-a5d7-77eb1001818b",
   "metadata": {},
   "source": [
    "# Python basics\n",
    "\n",
    "This notebook showcase some of the syntax of python in three simple exercises."
   ]
  },
  {
   "cell_type": "markdown",
   "id": "201c40e0-231d-4775-ae75-1a5f37a0b34b",
   "metadata": {},
   "source": [
    "# Basic Class and object"
   ]
  },
  {
   "cell_type": "code",
   "execution_count": null,
   "id": "f3910061-7101-4ee9-8fe8-1c65bf1614a2",
   "metadata": {},
   "outputs": [],
   "source": [
    "class Person:\n",
    "    def __init__(self, name, age):\n",
    "        self.name = name\n",
    "        self.age = age\n",
    "\n",
    "    def display_info(self):\n",
    "        print(f\"Name: {self.name}, Age: {self.age}\")\n",
    "\n",
    "# Create a Person object and display information\n",
    "person1 = Person(\"Alice\", 30)\n",
    "person1.display_info()"
   ]
  },
  {
   "cell_type": "markdown",
   "id": "151f314c-7934-4c9d-a4f8-650110766918",
   "metadata": {},
   "source": [
    "## Exercise\n",
    "\n",
    "Extend the Person class to include a method celebrate_birthday that increments the age by 1 and prints a birthday message. To do so, feel free to modify the code above and run it again :)"
   ]
  },
  {
   "cell_type": "markdown",
   "id": "7610d49f-e626-4325-b0d3-4711de0f1817",
   "metadata": {},
   "source": [
    "## Inheritance"
   ]
  },
  {
   "cell_type": "code",
   "execution_count": null,
   "id": "a8ddcb8c-ae2b-4084-8b29-900868222e25",
   "metadata": {},
   "outputs": [],
   "source": [
    "class Animal:\n",
    "    def __init__(self, name):\n",
    "        self.name = name\n",
    "\n",
    "    def make_sound(self):\n",
    "        print(f\"{self.name} makes a sound.\")\n",
    "\n",
    "class Dog(Animal):\n",
    "    def __init__(self, name, breed):\n",
    "        super().__init__(name)\n",
    "        self.breed = breed\n",
    "\n",
    "    def bark(self):\n",
    "        print(f\"{self.name} barks: Woof!\")\n",
    "\n",
    "# Create a Dog object and use its methods\n",
    "dog1 = Dog(\"Buddy\", \"Golden Retriever\")\n",
    "dog1.make_sound()\n",
    "dog1.bark()\n"
   ]
  },
  {
   "cell_type": "markdown",
   "id": "5db6a790-8d49-4175-93e2-fbf9d36772c9",
   "metadata": {},
   "source": [
    "## Exercise\n",
    "\n",
    "Add a new class Cat that inherits from Animal and includes a method meow. Create an instance of Cat and demonstrate its functionality."
   ]
  },
  {
   "cell_type": "code",
   "execution_count": null,
   "id": "f2327611-e836-4833-9fbc-6fa4b2939815",
   "metadata": {},
   "outputs": [],
   "source": [
    "# Your code goes here:"
   ]
  },
  {
   "cell_type": "markdown",
   "id": "544f4e6f-813e-467d-8c14-959411b218c0",
   "metadata": {},
   "source": [
    "# Working with lists and dictionaries"
   ]
  },
  {
   "cell_type": "code",
   "execution_count": null,
   "id": "8b8c45b7-dc19-4572-a3b0-827d5ab80cb4",
   "metadata": {},
   "outputs": [],
   "source": [
    "inventory = {\n",
    "    \"apple\": 10,\n",
    "    \"banana\": 5,\n",
    "    \"orange\": 8\n",
    "}\n",
    "\n",
    "def add_item(item, quantity):\n",
    "    if item in inventory:\n",
    "        inventory[item] += quantity\n",
    "    else:\n",
    "        inventory[item] = quantity\n",
    "\n",
    "def remove_item(item, quantity):\n",
    "    if item in inventory and inventory[item] >= quantity:\n",
    "        inventory[item] -= quantity\n",
    "        if inventory[item] == 0:\n",
    "            del inventory[item]\n",
    "    else:\n",
    "        print(f\"Not enough {item} in inventory.\")\n",
    "\n",
    "def display_inventory():\n",
    "    for item, quantity in inventory.items():\n",
    "        print(f\"{item}: {quantity}\")\n",
    "\n",
    "# Test the inventory functions\n",
    "add_item(\"apple\", 5)\n",
    "add_item(\"grape\", 3)\n",
    "remove_item(\"banana\", 2)\n",
    "display_inventory()\n"
   ]
  },
  {
   "cell_type": "markdown",
   "id": "55375cad-e5b6-4f86-b350-89873e30e033",
   "metadata": {},
   "source": [
    "## Exercise\n",
    "\n",
    "Expand the inventory program to include a search_item function that checks if an item exists in the inventory and returns its quantity."
   ]
  },
  {
   "cell_type": "code",
   "execution_count": null,
   "id": "3c0078cb-6e33-4987-9371-8c101e927b1a",
   "metadata": {},
   "outputs": [],
   "source": [
    "def search_item(item):\n",
    "    # your code goes here\n",
    "    return 0"
   ]
  }
 ],
 "metadata": {
  "kernelspec": {
   "display_name": "chatbot-tutorial",
   "language": "python",
   "name": "chatbot-tutorial"
  },
  "language_info": {
   "codemirror_mode": {
    "name": "ipython",
    "version": 3
   },
   "file_extension": ".py",
   "mimetype": "text/x-python",
   "name": "python",
   "nbconvert_exporter": "python",
   "pygments_lexer": "ipython3",
   "version": "3.11.9"
  }
 },
 "nbformat": 4,
 "nbformat_minor": 5
}
